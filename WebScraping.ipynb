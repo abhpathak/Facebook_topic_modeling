{
 "cells": [
  {
   "cell_type": "code",
   "execution_count": 19,
   "metadata": {
    "collapsed": false
   },
   "outputs": [
    {
     "data": {
      "text/plain": [
       "u'C:\\\\Users\\\\Abhinav\\\\Google Drive\\\\Big Data Project\\\\Codes'"
      ]
     },
     "execution_count": 19,
     "metadata": {},
     "output_type": "execute_result"
    }
   ],
   "source": [
    "#So once you get the CSV from Suhas's code\n",
    "%pwd"
   ]
  },
  {
   "cell_type": "code",
   "execution_count": 20,
   "metadata": {
    "collapsed": true
   },
   "outputs": [],
   "source": [
    "import pandas as pd\n",
    "import re\n",
    "import urllib\n",
    "from bs4 import BeautifulSoup\n",
    "import urllib"
   ]
  },
  {
   "cell_type": "code",
   "execution_count": 21,
   "metadata": {
    "collapsed": false
   },
   "outputs": [],
   "source": [
    "cnn_csv = pd.read_csv('ESPN_facebook_statuses_filtered.csv')"
   ]
  },
  {
   "cell_type": "code",
   "execution_count": 22,
   "metadata": {
    "collapsed": false
   },
   "outputs": [],
   "source": [
    "cnn_csv_link = cnn_csv[cnn_csv.status_type == 'link']"
   ]
  },
  {
   "cell_type": "code",
   "execution_count": 23,
   "metadata": {
    "collapsed": false
   },
   "outputs": [],
   "source": [
    "import urllib2\n",
    "import urllib\n",
    "from cookielib import CookieJar\n",
    "from bs4 import BeautifulSoup\n",
    "cj = CookieJar()\n",
    "\n",
    "r=[\"http://www.nytimes.com/2016/11/25/briefing/us-briefing-black-friday-venezuela-florence-henderson.html?smid=fb-nytimes&smtyp=cur\",\"http://www.nytimes.com/2016/11/25/business/black-friday-deal-shopping.html?smid=fb-nytimes&smtyp=cur\",\"http://www.nytimes.com/2016/11/25/world/europe/donald-trump-scotland-wall.html?smid=fb-nytimes&smtyp=cur\",]\n",
    "\n",
    "all_text = \" \"\n",
    "for url in r:\n",
    "    opener = urllib2.build_opener(urllib2.HTTPCookieProcessor(cj))\n",
    "    p = opener.open(url)\n",
    "    soup = BeautifulSoup(p,\"lxml\")\n",
    "    text = u''.join(p.text for p in soup.select('article#story p.story-content')).encode('utf-8').strip()\n",
    "    all_text += text + \"\\n\"\n",
    "    with open(\"test.txt\", \"a\") as myfile:\n",
    "        myfile.write(str(all_text))"
   ]
  },
  {
   "cell_type": "code",
   "execution_count": null,
   "metadata": {
    "collapsed": true
   },
   "outputs": [],
   "source": []
  }
 ],
 "metadata": {
  "kernelspec": {
   "display_name": "Python 2",
   "language": "python",
   "name": "python2"
  },
  "language_info": {
   "codemirror_mode": {
    "name": "ipython",
    "version": 2
   },
   "file_extension": ".py",
   "mimetype": "text/x-python",
   "name": "python",
   "nbconvert_exporter": "python",
   "pygments_lexer": "ipython2",
   "version": "2.7.11"
  }
 },
 "nbformat": 4,
 "nbformat_minor": 0
}
