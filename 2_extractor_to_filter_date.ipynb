{
 "cells": [
  {
   "cell_type": "markdown",
   "metadata": {},
   "source": [
    "<h1 style=\"font-family:serif;\">Extractor Script</h1>"
   ]
  },
  {
   "cell_type": "markdown",
   "metadata": {},
   "source": [
    "<i style=\"font-family:serif;\"><font size=\"4\">Load the dataset</font></i>"
   ]
  },
  {
   "cell_type": "code",
   "execution_count": 25,
   "metadata": {
    "collapsed": false
   },
   "outputs": [],
   "source": [
    "# Import the dataset\n",
    "import pandas as pd\n",
    "data = pd.read_csv('cnn_facebook_statuses.csv')"
   ]
  },
  {
   "cell_type": "code",
   "execution_count": 26,
   "metadata": {
    "collapsed": false
   },
   "outputs": [
    {
     "data": {
      "text/html": [
       "<div>\n",
       "<table border=\"1\" class=\"dataframe\">\n",
       "  <thead>\n",
       "    <tr style=\"text-align: right;\">\n",
       "      <th></th>\n",
       "      <th>status_id</th>\n",
       "      <th>status_message</th>\n",
       "      <th>link_name</th>\n",
       "      <th>status_type</th>\n",
       "      <th>status_link</th>\n",
       "      <th>status_published</th>\n",
       "      <th>num_reactions</th>\n",
       "      <th>num_comments</th>\n",
       "      <th>num_shares</th>\n",
       "      <th>num_likes</th>\n",
       "      <th>num_loves</th>\n",
       "      <th>num_wows</th>\n",
       "      <th>num_hahas</th>\n",
       "      <th>num_sads</th>\n",
       "      <th>num_angrys</th>\n",
       "    </tr>\n",
       "  </thead>\n",
       "  <tbody>\n",
       "    <tr>\n",
       "      <th>0</th>\n",
       "      <td>5550296508_10155652380126509</td>\n",
       "      <td>Ellen DeGeneres was at The White House this we...</td>\n",
       "      <td>Ellen DeGeneres posts star-studded mannequin v...</td>\n",
       "      <td>video</td>\n",
       "      <td>https://www.facebook.com/cnn/videos/1015565238...</td>\n",
       "      <td>2016-11-25 10:51:16</td>\n",
       "      <td>1613</td>\n",
       "      <td>101</td>\n",
       "      <td>174</td>\n",
       "      <td>1326</td>\n",
       "      <td>146</td>\n",
       "      <td>12</td>\n",
       "      <td>127</td>\n",
       "      <td>0</td>\n",
       "      <td>3</td>\n",
       "    </tr>\n",
       "  </tbody>\n",
       "</table>\n",
       "</div>"
      ],
      "text/plain": [
       "                      status_id  \\\n",
       "0  5550296508_10155652380126509   \n",
       "\n",
       "                                      status_message  \\\n",
       "0  Ellen DeGeneres was at The White House this we...   \n",
       "\n",
       "                                           link_name status_type  \\\n",
       "0  Ellen DeGeneres posts star-studded mannequin v...       video   \n",
       "\n",
       "                                         status_link     status_published  \\\n",
       "0  https://www.facebook.com/cnn/videos/1015565238...  2016-11-25 10:51:16   \n",
       "\n",
       "   num_reactions  num_comments  num_shares  num_likes  num_loves  num_wows  \\\n",
       "0           1613           101         174       1326        146        12   \n",
       "\n",
       "   num_hahas  num_sads  num_angrys  \n",
       "0        127         0           3  "
      ]
     },
     "execution_count": 26,
     "metadata": {},
     "output_type": "execute_result"
    }
   ],
   "source": [
    "# Check if the data has been properly loaded into the datatframe\n",
    "data.head(n=1)"
   ]
  },
  {
   "cell_type": "markdown",
   "metadata": {},
   "source": [
    "<i style=\"font-family:serif;\"><font size=\"4\">Apply the date filter on the dataset</font></i>"
   ]
  },
  {
   "cell_type": "code",
   "execution_count": 27,
   "metadata": {
    "collapsed": false
   },
   "outputs": [],
   "source": [
    "# We are considering all the data after 28th August, 2016\n",
    "\n",
    "import datetime\n",
    "import time\n",
    "\n",
    "date = datetime.datetime(2016, 8, 28)\n",
    "date = date.strftime('%Y-%m-%d %H:%M:%S')\n",
    "data_filtered = data[data.status_published > date]"
   ]
  },
  {
   "cell_type": "code",
   "execution_count": 28,
   "metadata": {
    "collapsed": false
   },
   "outputs": [
    {
     "name": "stdout",
     "output_type": "stream",
     "text": [
      "(32677, 15)\n",
      "(4314, 15)\n"
     ]
    }
   ],
   "source": [
    "# Check if the filter has been applied properly\n",
    "# For this, the number of rows should have changed between data and data_filtered\n",
    "# With data_filtered having lower number of rows as compared to data\n",
    "\n",
    "print data.shape\n",
    "print data_filtered.shape"
   ]
  },
  {
   "cell_type": "markdown",
   "metadata": {},
   "source": [
    "<i style=\"font-family:serif;\"><font size=\"4\">Save the filtered file with new filename</font></i>"
   ]
  },
  {
   "cell_type": "code",
   "execution_count": 29,
   "metadata": {
    "collapsed": true
   },
   "outputs": [],
   "source": [
    "data_filtered.to_csv(\"cnn_facebook_statuses_filtered.csv\", index=False)"
   ]
  }
 ],
 "metadata": {
  "kernelspec": {
   "display_name": "Python [Root]",
   "language": "python",
   "name": "Python [Root]"
  },
  "language_info": {
   "codemirror_mode": {
    "name": "ipython",
    "version": 2
   },
   "file_extension": ".py",
   "mimetype": "text/x-python",
   "name": "python",
   "nbconvert_exporter": "python",
   "pygments_lexer": "ipython2",
   "version": "2.7.12"
  }
 },
 "nbformat": 4,
 "nbformat_minor": 0
}
